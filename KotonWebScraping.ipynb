{
 "cells": [
  {
   "cell_type": "code",
   "execution_count": 1,
   "metadata": {},
   "outputs": [],
   "source": [
    "import pandas as pd\n",
    "import requests\n",
    "from bs4 import BeautifulSoup\n",
    "from datetime import datetime\n",
    "import time"
   ]
  },
  {
   "cell_type": "code",
   "execution_count": 2,
   "metadata": {},
   "outputs": [],
   "source": [
    "def get_data(url):\n",
    "    user_agent = {\"User-Agent\": \"your_user_agent}\n",
    "    r = requests.get(url, headers=user_agent)\n",
    "    soup= BeautifulSoup(r.content,\"lxml\")\n",
    "    return soup "
   ]
  },
  {
   "cell_type": "code",
   "execution_count": 11,
   "metadata": {},
   "outputs": [],
   "source": [
    "koton=\"https://www.koton.com/tr/erkek/giyim/dis-giyim/mont/c/M01-C01-N01-AK104-K100077\""
   ]
  },
  {
   "cell_type": "code",
   "execution_count": 24,
   "metadata": {},
   "outputs": [
    {
     "name": "stdout",
     "output_type": "stream",
     "text": [
      "Web linkini Yapıştırınız: https://www.koton.com/tr/erkek/giyim/dis-giyim/kaban/c/M01-C01-N01-AK104-K100071\n"
     ]
    }
   ],
   "source": [
    "koton_link= str(input(\"Web linkini Yapıştırınız: \"))"
   ]
  },
  {
   "cell_type": "code",
   "execution_count": 25,
   "metadata": {},
   "outputs": [],
   "source": [
    "soup=get_data(koton_link)\n"
   ]
  },
  {
   "cell_type": "code",
   "execution_count": 26,
   "metadata": {
    "scrolled": true
   },
   "outputs": [
    {
     "data": {
      "text/plain": [
       "['/tr/erkek-kapusonlu-fermuarli-cepli-kaban/p/1KAM01102LW889?productPosition=0&listName=Erkek Kaban',\n",
       " '/tr/erkek-sisme-mont-kapusonlu-kurk-detayli/p/1KAM05511LW711?productPosition=1&listName=Erkek Kaban',\n",
       " '/tr/erkek-ekose-kase-kaban/p/2KAM01204HW14D?productPosition=2&listName=Erkek Kaban',\n",
       " '/tr/erkek-kapusonlu-anorak-parka/p/1KAM01359HW999?productPosition=3&listName=Erkek Kaban',\n",
       " '/tr/erkek-ekose-v-yaka-dugmeli-kase-kaban/p/1KAM01923HW01T?productPosition=4&listName=Erkek Kaban',\n",
       " '/tr/erkek-suni-kurk-yaka-kase-kaban/p/2KAM01029HW023?productPosition=5&listName=Erkek Kaban',\n",
       " '/tr/erkek-kase-kaban/p/2KAM01210HW999?productPosition=6&listName=Erkek Kaban',\n",
       " '/tr/erkek-kase-kaban/p/2KAM01210HW045?productPosition=7&listName=Erkek Kaban',\n",
       " '/tr/erkek-suni-kurk-yaka-kase-kaban/p/2KAM01029HW999?productPosition=8&listName=Erkek Kaban',\n",
       " '/tr/erkek-kase-kaban/p/2KAM01202HW999?productPosition=9&listName=Erkek Kaban',\n",
       " '/tr/erkek-dik-yaka-kapusonlu-cepli-fermuarli-kaban/p/1KAM01687LW045?productPosition=10&listName=Erkek Kaban',\n",
       " '/tr/erkek-kazayagi-desenli-kapsonlu-kaban/p/2KAM01031HW07H?productPosition=11&listName=Erkek Kaban',\n",
       " '/tr/erkek-kapusonlu-kase-kaban/p/2KAM01201HW999?productPosition=12&listName=Erkek Kaban',\n",
       " '/tr/erkek-dik-yaka-kapusonlu-cepli-fermuarli-kaban/p/1KAM01687LW889?productPosition=13&listName=Erkek Kaban',\n",
       " '/tr/erkek-suni-kurk-kapsonlu-sisme-parka/p/1KAM04060KW999?productPosition=14&listName=Erkek Kaban',\n",
       " '/tr/erkek-kapusonlu-cepli-fermuarli-kaban/p/1KAM05413OW999?productPosition=15&listName=Erkek Kaban',\n",
       " '/tr/erkek-suni-kurk-kapsonlu-sisme-parka/p/1KAM04060KW889?productPosition=16&listName=Erkek Kaban',\n",
       " '/tr/erkek-cepli-dugmeli-gomlek-yaka-kaban/p/0KAM01540HW889?productPosition=17&listName=Erkek Kaban',\n",
       " '/tr/erkek-suni-kurk-kapusonlu-kislik-parka/p/1KAM05058LW999?productPosition=18&listName=Erkek Kaban']"
      ]
     },
     "execution_count": 26,
     "metadata": {},
     "output_type": "execute_result"
    }
   ],
   "source": [
    "href_tags= soup.find_all(href=True,attrs={'class':\"prc-name\"})\n",
    "product_links = [tag.get('href') for tag in href_tags]\n",
    "product_links"
   ]
  },
  {
   "cell_type": "code",
   "execution_count": 27,
   "metadata": {},
   "outputs": [
    {
     "data": {
      "text/plain": [
       "19"
      ]
     },
     "execution_count": 27,
     "metadata": {},
     "output_type": "execute_result"
    }
   ],
   "source": [
    "len(product_links)"
   ]
  },
  {
   "cell_type": "code",
   "execution_count": 31,
   "metadata": {},
   "outputs": [
    {
     "name": "stdout",
     "output_type": "stream",
     "text": [
      "https://www.koton.com/tr/erkek-kapusonlu-fermuarli-cepli-kaban/p/1KAM01102LW889?productPosition=0&listName=Erkek Kaban\n",
      "https://www.koton.com/tr/erkek-sisme-mont-kapusonlu-kurk-detayli/p/1KAM05511LW711?productPosition=1&listName=Erkek Kaban\n",
      "https://www.koton.com/tr/erkek-ekose-kase-kaban/p/2KAM01204HW14D?productPosition=2&listName=Erkek Kaban\n",
      "https://www.koton.com/tr/erkek-kapusonlu-anorak-parka/p/1KAM01359HW999?productPosition=3&listName=Erkek Kaban\n",
      "https://www.koton.com/tr/erkek-ekose-v-yaka-dugmeli-kase-kaban/p/1KAM01923HW01T?productPosition=4&listName=Erkek Kaban\n",
      "https://www.koton.com/tr/erkek-suni-kurk-yaka-kase-kaban/p/2KAM01029HW023?productPosition=5&listName=Erkek Kaban\n",
      "https://www.koton.com/tr/erkek-kase-kaban/p/2KAM01210HW999?productPosition=6&listName=Erkek Kaban\n",
      "https://www.koton.com/tr/erkek-kase-kaban/p/2KAM01210HW045?productPosition=7&listName=Erkek Kaban\n",
      "https://www.koton.com/tr/erkek-suni-kurk-yaka-kase-kaban/p/2KAM01029HW999?productPosition=8&listName=Erkek Kaban\n",
      "https://www.koton.com/tr/erkek-kase-kaban/p/2KAM01202HW999?productPosition=9&listName=Erkek Kaban\n",
      "https://www.koton.com/tr/erkek-dik-yaka-kapusonlu-cepli-fermuarli-kaban/p/1KAM01687LW045?productPosition=10&listName=Erkek Kaban\n",
      "https://www.koton.com/tr/erkek-kazayagi-desenli-kapsonlu-kaban/p/2KAM01031HW07H?productPosition=11&listName=Erkek Kaban\n",
      "https://www.koton.com/tr/erkek-kapusonlu-kase-kaban/p/2KAM01201HW999?productPosition=12&listName=Erkek Kaban\n",
      "https://www.koton.com/tr/erkek-dik-yaka-kapusonlu-cepli-fermuarli-kaban/p/1KAM01687LW889?productPosition=13&listName=Erkek Kaban\n",
      "https://www.koton.com/tr/erkek-suni-kurk-kapsonlu-sisme-parka/p/1KAM04060KW999?productPosition=14&listName=Erkek Kaban\n",
      "https://www.koton.com/tr/erkek-kapusonlu-cepli-fermuarli-kaban/p/1KAM05413OW999?productPosition=15&listName=Erkek Kaban\n",
      "https://www.koton.com/tr/erkek-suni-kurk-kapsonlu-sisme-parka/p/1KAM04060KW889?productPosition=16&listName=Erkek Kaban\n",
      "https://www.koton.com/tr/erkek-cepli-dugmeli-gomlek-yaka-kaban/p/0KAM01540HW889?productPosition=17&listName=Erkek Kaban\n",
      "https://www.koton.com/tr/erkek-suni-kurk-kapusonlu-kislik-parka/p/1KAM05058LW999?productPosition=18&listName=Erkek Kaban\n"
     ]
    }
   ],
   "source": [
    "for link in product_links:\n",
    "    url = \"https://www.koton.com\"+link\n",
    "    print(url)"
   ]
  },
  {
   "cell_type": "code",
   "execution_count": 32,
   "metadata": {},
   "outputs": [],
   "source": [
    "data = pd.DataFrame(columns={'ProductName','Price','ProductLink','ProductImage'})\n"
   ]
  },
  {
   "cell_type": "code",
   "execution_count": 33,
   "metadata": {},
   "outputs": [
    {
     "data": {
      "text/html": [
       "<div>\n",
       "<style scoped>\n",
       "    .dataframe tbody tr th:only-of-type {\n",
       "        vertical-align: middle;\n",
       "    }\n",
       "\n",
       "    .dataframe tbody tr th {\n",
       "        vertical-align: top;\n",
       "    }\n",
       "\n",
       "    .dataframe thead th {\n",
       "        text-align: right;\n",
       "    }\n",
       "</style>\n",
       "<table border=\"1\" class=\"dataframe\">\n",
       "  <thead>\n",
       "    <tr style=\"text-align: right;\">\n",
       "      <th></th>\n",
       "      <th>Price</th>\n",
       "      <th>ProductLink</th>\n",
       "      <th>ProductName</th>\n",
       "      <th>ProductImage</th>\n",
       "    </tr>\n",
       "  </thead>\n",
       "  <tbody>\n",
       "  </tbody>\n",
       "</table>\n",
       "</div>"
      ],
      "text/plain": [
       "Empty DataFrame\n",
       "Columns: [Price, ProductLink, ProductName, ProductImage]\n",
       "Index: []"
      ]
     },
     "execution_count": 33,
     "metadata": {},
     "output_type": "execute_result"
    }
   ],
   "source": [
    "data"
   ]
  },
  {
   "cell_type": "code",
   "execution_count": 34,
   "metadata": {},
   "outputs": [
    {
     "name": "stdout",
     "output_type": "stream",
     "text": [
      "https://www.koton.com/tr/erkek-kapusonlu-fermuarli-cepli-kaban/p/1KAM01102LW889?productPosition=0&listName=Erkek Kaban\n",
      "Kapüşonlu Fermuarlı Cepli Kaban - Haki\n",
      "https://www.koton.com/tr/erkek-sisme-mont-kapusonlu-kurk-detayli/p/1KAM05511LW711?productPosition=1&listName=Erkek Kaban\n",
      "Şişme Mont Kapüşonlu Kürk Detaylı - Lacivert\n",
      "https://www.koton.com/tr/erkek-ekose-kase-kaban/p/2KAM01204HW14D?productPosition=2&listName=Erkek Kaban\n",
      "Ekose Kaşe Kaban - Antrasit\n",
      "https://www.koton.com/tr/erkek-kapusonlu-anorak-parka/p/1KAM01359HW999?productPosition=3&listName=Erkek Kaban\n",
      "Kapüşonlu Anorak Parka - Siyah\n",
      "https://www.koton.com/tr/erkek-ekose-v-yaka-dugmeli-kase-kaban/p/1KAM01923HW01T?productPosition=4&listName=Erkek Kaban\n",
      "Ekose V Yaka Düğmeli Kaşe Kaban - Siyah Kareli\n",
      "https://www.koton.com/tr/erkek-suni-kurk-yaka-kase-kaban/p/2KAM01029HW023?productPosition=5&listName=Erkek Kaban\n",
      "Suni Kürk Yaka Kaşe Kaban - Gri\n",
      "https://www.koton.com/tr/erkek-kase-kaban/p/2KAM01210HW999?productPosition=6&listName=Erkek Kaban\n",
      "Kaşe Kaban - Siyah\n",
      "https://www.koton.com/tr/erkek-kase-kaban/p/2KAM01210HW045?productPosition=7&listName=Erkek Kaban\n",
      "Kaşe Kaban - Antrasit\n",
      "https://www.koton.com/tr/erkek-suni-kurk-yaka-kase-kaban/p/2KAM01029HW999?productPosition=8&listName=Erkek Kaban\n",
      "Suni Kürk Yaka Kaşe Kaban - Siyah\n",
      "https://www.koton.com/tr/erkek-kase-kaban/p/2KAM01202HW999?productPosition=9&listName=Erkek Kaban\n",
      "Kaşe Kaban - Siyah\n",
      "https://www.koton.com/tr/erkek-dik-yaka-kapusonlu-cepli-fermuarli-kaban/p/1KAM01687LW045?productPosition=10&listName=Erkek Kaban\n",
      "Dik Yaka Kapüşonlu Cepli Fermuarlı Kaban - Antrasit\n",
      "https://www.koton.com/tr/erkek-kazayagi-desenli-kapsonlu-kaban/p/2KAM01031HW07H?productPosition=11&listName=Erkek Kaban\n",
      "Kazayağı Desenli Kapşonlu Kaban - Kahve\n",
      "https://www.koton.com/tr/erkek-kapusonlu-kase-kaban/p/2KAM01201HW999?productPosition=12&listName=Erkek Kaban\n",
      "Kapüşonlu Kaşe Kaban - Siyah\n",
      "https://www.koton.com/tr/erkek-dik-yaka-kapusonlu-cepli-fermuarli-kaban/p/1KAM01687LW889?productPosition=13&listName=Erkek Kaban\n",
      "Dik Yaka Kapüşonlu Cepli Fermuarlı Kaban - Haki\n",
      "https://www.koton.com/tr/erkek-suni-kurk-kapsonlu-sisme-parka/p/1KAM04060KW999?productPosition=14&listName=Erkek Kaban\n",
      "Suni Kürk Kapşonlu Şişme Parka - Siyah\n",
      "https://www.koton.com/tr/erkek-kapusonlu-cepli-fermuarli-kaban/p/1KAM05413OW999?productPosition=15&listName=Erkek Kaban\n",
      "Kapüşonlu Cepli Fermuarlı Kaban - Siyah\n",
      "https://www.koton.com/tr/erkek-suni-kurk-kapsonlu-sisme-parka/p/1KAM04060KW889?productPosition=16&listName=Erkek Kaban\n",
      "Suni Kürk Kapşonlu Şişme Parka - Haki\n",
      "https://www.koton.com/tr/erkek-cepli-dugmeli-gomlek-yaka-kaban/p/0KAM01540HW889?productPosition=17&listName=Erkek Kaban\n",
      "Cepli Düğmeli Gömlek Yaka Kaban - Haki\n",
      "https://www.koton.com/tr/erkek-suni-kurk-kapusonlu-kislik-parka/p/1KAM05058LW999?productPosition=18&listName=Erkek Kaban\n",
      "Suni Kürk Kapüşonlu Kışlık Parka - Siyah\n"
     ]
    }
   ],
   "source": [
    "for link in product_links:\n",
    "    url = \"https://www.koton.com\"+link\n",
    "    soup=get_data(url)\n",
    "    try:\n",
    "        title = soup.find(\"h1\").text.strip()\n",
    "    except:\n",
    "        title = None\n",
    "    if  soup.find(\"span\",attrs={\"class\":\"newPrice\"}):\n",
    "        price = soup.find(\"span\",attrs={\"class\":\"newPrice\"}).text.strip()\n",
    "    elif  soup.find(\"span\",attrs={\"class\":\"normalPrice\"}):\n",
    "        price = soup.find(\"span\",attrs={\"class\":\"normalPrice\"}).text.strip()\n",
    "    else:\n",
    "        price = None\n",
    "    try:\n",
    "        a = list(soup.find(\"a\",attrs={\"class\":\"1 zoomImgLink\"}))\n",
    "        a1 = str(a[1])\n",
    "        for l in range(len(a1)):\n",
    "            if a1[l:l+8:1] == 'alt-src=':\n",
    "                image= a1[l+9:l+126]\n",
    "        \n",
    "    except:\n",
    "        image = None\n",
    "        \n",
    "    data = data.append({'ProductName':title,'Price':price,'ProductLink':url,'ProductImage':image},ignore_index=True)\n",
    "    print(url)\n",
    "    print(title)\n"
   ]
  },
  {
   "cell_type": "code",
   "execution_count": 35,
   "metadata": {
    "scrolled": true
   },
   "outputs": [
    {
     "data": {
      "text/html": [
       "<div>\n",
       "<style scoped>\n",
       "    .dataframe tbody tr th:only-of-type {\n",
       "        vertical-align: middle;\n",
       "    }\n",
       "\n",
       "    .dataframe tbody tr th {\n",
       "        vertical-align: top;\n",
       "    }\n",
       "\n",
       "    .dataframe thead th {\n",
       "        text-align: right;\n",
       "    }\n",
       "</style>\n",
       "<table border=\"1\" class=\"dataframe\">\n",
       "  <thead>\n",
       "    <tr style=\"text-align: right;\">\n",
       "      <th></th>\n",
       "      <th>Price</th>\n",
       "      <th>ProductLink</th>\n",
       "      <th>ProductName</th>\n",
       "      <th>ProductImage</th>\n",
       "    </tr>\n",
       "  </thead>\n",
       "  <tbody>\n",
       "    <tr>\n",
       "      <th>0</th>\n",
       "      <td>₺227,49</td>\n",
       "      <td>https://www.koton.com/tr/erkek-kapusonlu-fermu...</td>\n",
       "      <td>Kapüşonlu Fermuarlı Cepli Kaban - Haki</td>\n",
       "      <td>https://ktnimg.mncdn.com/mnresize/868/1140/pro...</td>\n",
       "    </tr>\n",
       "    <tr>\n",
       "      <th>1</th>\n",
       "      <td>₺389,99</td>\n",
       "      <td>https://www.koton.com/tr/erkek-sisme-mont-kapu...</td>\n",
       "      <td>Şişme Mont Kapüşonlu Kürk Detaylı - Lacivert</td>\n",
       "      <td>https://ktnimg.mncdn.com/mnresize/868/1140/pro...</td>\n",
       "    </tr>\n",
       "    <tr>\n",
       "      <th>2</th>\n",
       "      <td>₺225,00</td>\n",
       "      <td>https://www.koton.com/tr/erkek-ekose-kase-kaba...</td>\n",
       "      <td>Ekose Kaşe Kaban - Antrasit</td>\n",
       "      <td>https://ktnimg.mncdn.com/mnresize/868/1140/pro...</td>\n",
       "    </tr>\n",
       "    <tr>\n",
       "      <th>3</th>\n",
       "      <td>₺350,00</td>\n",
       "      <td>https://www.koton.com/tr/erkek-kapusonlu-anora...</td>\n",
       "      <td>Kapüşonlu Anorak Parka - Siyah</td>\n",
       "      <td>https://ktnimg.mncdn.com/mnresize/868/1140/pro...</td>\n",
       "    </tr>\n",
       "    <tr>\n",
       "      <th>4</th>\n",
       "      <td>₺190,00</td>\n",
       "      <td>https://www.koton.com/tr/erkek-ekose-v-yaka-du...</td>\n",
       "      <td>Ekose V Yaka Düğmeli Kaşe Kaban - Siyah Kareli</td>\n",
       "      <td>https://ktnimg.mncdn.com/mnresize/868/1140/pro...</td>\n",
       "    </tr>\n",
       "    <tr>\n",
       "      <th>5</th>\n",
       "      <td>₺118,99</td>\n",
       "      <td>https://www.koton.com/tr/erkek-suni-kurk-yaka-...</td>\n",
       "      <td>Suni Kürk Yaka Kaşe Kaban - Gri</td>\n",
       "      <td>https://ktnimg.mncdn.com/mnresize/868/1140/pro...</td>\n",
       "    </tr>\n",
       "    <tr>\n",
       "      <th>6</th>\n",
       "      <td>₺499,99</td>\n",
       "      <td>https://www.koton.com/tr/erkek-kase-kaban/p/2K...</td>\n",
       "      <td>Kaşe Kaban - Siyah</td>\n",
       "      <td>https://ktnimg.mncdn.com/mnresize/868/1140/pro...</td>\n",
       "    </tr>\n",
       "    <tr>\n",
       "      <th>7</th>\n",
       "      <td>₺499,99</td>\n",
       "      <td>https://www.koton.com/tr/erkek-kase-kaban/p/2K...</td>\n",
       "      <td>Kaşe Kaban - Antrasit</td>\n",
       "      <td>https://ktnimg.mncdn.com/mnresize/868/1140/pro...</td>\n",
       "    </tr>\n",
       "    <tr>\n",
       "      <th>8</th>\n",
       "      <td>₺90,99</td>\n",
       "      <td>https://www.koton.com/tr/erkek-suni-kurk-yaka-...</td>\n",
       "      <td>Suni Kürk Yaka Kaşe Kaban - Siyah</td>\n",
       "      <td>https://ktnimg.mncdn.com/mnresize/868/1140/pro...</td>\n",
       "    </tr>\n",
       "    <tr>\n",
       "      <th>9</th>\n",
       "      <td>₺90,99</td>\n",
       "      <td>https://www.koton.com/tr/erkek-kase-kaban/p/2K...</td>\n",
       "      <td>Kaşe Kaban - Siyah</td>\n",
       "      <td>https://ktnimg.mncdn.com/mnresize/868/1140/pro...</td>\n",
       "    </tr>\n",
       "    <tr>\n",
       "      <th>10</th>\n",
       "      <td>₺599,99</td>\n",
       "      <td>https://www.koton.com/tr/erkek-dik-yaka-kapuso...</td>\n",
       "      <td>Dik Yaka Kapüşonlu Cepli Fermuarlı Kaban - Ant...</td>\n",
       "      <td>https://ktnimg.mncdn.com/mnresize/868/1140/pro...</td>\n",
       "    </tr>\n",
       "    <tr>\n",
       "      <th>11</th>\n",
       "      <td>₺399,99</td>\n",
       "      <td>https://www.koton.com/tr/erkek-kazayagi-desenl...</td>\n",
       "      <td>Kazayağı Desenli Kapşonlu Kaban - Kahve</td>\n",
       "      <td>https://ktnimg.mncdn.com/mnresize/868/1140/pro...</td>\n",
       "    </tr>\n",
       "    <tr>\n",
       "      <th>12</th>\n",
       "      <td>₺449,99</td>\n",
       "      <td>https://www.koton.com/tr/erkek-kapusonlu-kase-...</td>\n",
       "      <td>Kapüşonlu Kaşe Kaban - Siyah</td>\n",
       "      <td>https://ktnimg.mncdn.com/mnresize/868/1140/pro...</td>\n",
       "    </tr>\n",
       "    <tr>\n",
       "      <th>13</th>\n",
       "      <td>₺599,99</td>\n",
       "      <td>https://www.koton.com/tr/erkek-dik-yaka-kapuso...</td>\n",
       "      <td>Dik Yaka Kapüşonlu Cepli Fermuarlı Kaban - Haki</td>\n",
       "      <td>https://ktnimg.mncdn.com/mnresize/868/1140/pro...</td>\n",
       "    </tr>\n",
       "    <tr>\n",
       "      <th>14</th>\n",
       "      <td>₺479,99</td>\n",
       "      <td>https://www.koton.com/tr/erkek-suni-kurk-kapso...</td>\n",
       "      <td>Suni Kürk Kapşonlu Şişme Parka - Siyah</td>\n",
       "      <td>https://ktnimg.mncdn.com/mnresize/868/1140/pro...</td>\n",
       "    </tr>\n",
       "    <tr>\n",
       "      <th>15</th>\n",
       "      <td>₺397,49</td>\n",
       "      <td>https://www.koton.com/tr/erkek-kapusonlu-cepli...</td>\n",
       "      <td>Kapüşonlu Cepli Fermuarlı Kaban - Siyah</td>\n",
       "      <td>https://ktnimg.mncdn.com/mnresize/868/1140/pro...</td>\n",
       "    </tr>\n",
       "    <tr>\n",
       "      <th>16</th>\n",
       "      <td>₺699,99</td>\n",
       "      <td>https://www.koton.com/tr/erkek-suni-kurk-kapso...</td>\n",
       "      <td>Suni Kürk Kapşonlu Şişme Parka - Haki</td>\n",
       "      <td>https://ktnimg.mncdn.com/mnresize/868/1140/pro...</td>\n",
       "    </tr>\n",
       "    <tr>\n",
       "      <th>17</th>\n",
       "      <td>₺202,50</td>\n",
       "      <td>https://www.koton.com/tr/erkek-cepli-dugmeli-g...</td>\n",
       "      <td>Cepli Düğmeli Gömlek Yaka Kaban - Haki</td>\n",
       "      <td>https://ktnimg.mncdn.com/mnresize/868/1140/pro...</td>\n",
       "    </tr>\n",
       "    <tr>\n",
       "      <th>18</th>\n",
       "      <td>₺489,99</td>\n",
       "      <td>https://www.koton.com/tr/erkek-suni-kurk-kapus...</td>\n",
       "      <td>Suni Kürk Kapüşonlu Kışlık Parka - Siyah</td>\n",
       "      <td>https://ktnimg.mncdn.com/mnresize/868/1140/pro...</td>\n",
       "    </tr>\n",
       "  </tbody>\n",
       "</table>\n",
       "</div>"
      ],
      "text/plain": [
       "      Price                                        ProductLink  \\\n",
       "0   ₺227,49  https://www.koton.com/tr/erkek-kapusonlu-fermu...   \n",
       "1   ₺389,99  https://www.koton.com/tr/erkek-sisme-mont-kapu...   \n",
       "2   ₺225,00  https://www.koton.com/tr/erkek-ekose-kase-kaba...   \n",
       "3   ₺350,00  https://www.koton.com/tr/erkek-kapusonlu-anora...   \n",
       "4   ₺190,00  https://www.koton.com/tr/erkek-ekose-v-yaka-du...   \n",
       "5   ₺118,99  https://www.koton.com/tr/erkek-suni-kurk-yaka-...   \n",
       "6   ₺499,99  https://www.koton.com/tr/erkek-kase-kaban/p/2K...   \n",
       "7   ₺499,99  https://www.koton.com/tr/erkek-kase-kaban/p/2K...   \n",
       "8    ₺90,99  https://www.koton.com/tr/erkek-suni-kurk-yaka-...   \n",
       "9    ₺90,99  https://www.koton.com/tr/erkek-kase-kaban/p/2K...   \n",
       "10  ₺599,99  https://www.koton.com/tr/erkek-dik-yaka-kapuso...   \n",
       "11  ₺399,99  https://www.koton.com/tr/erkek-kazayagi-desenl...   \n",
       "12  ₺449,99  https://www.koton.com/tr/erkek-kapusonlu-kase-...   \n",
       "13  ₺599,99  https://www.koton.com/tr/erkek-dik-yaka-kapuso...   \n",
       "14  ₺479,99  https://www.koton.com/tr/erkek-suni-kurk-kapso...   \n",
       "15  ₺397,49  https://www.koton.com/tr/erkek-kapusonlu-cepli...   \n",
       "16  ₺699,99  https://www.koton.com/tr/erkek-suni-kurk-kapso...   \n",
       "17  ₺202,50  https://www.koton.com/tr/erkek-cepli-dugmeli-g...   \n",
       "18  ₺489,99  https://www.koton.com/tr/erkek-suni-kurk-kapus...   \n",
       "\n",
       "                                          ProductName  \\\n",
       "0              Kapüşonlu Fermuarlı Cepli Kaban - Haki   \n",
       "1        Şişme Mont Kapüşonlu Kürk Detaylı - Lacivert   \n",
       "2                         Ekose Kaşe Kaban - Antrasit   \n",
       "3                      Kapüşonlu Anorak Parka - Siyah   \n",
       "4      Ekose V Yaka Düğmeli Kaşe Kaban - Siyah Kareli   \n",
       "5                     Suni Kürk Yaka Kaşe Kaban - Gri   \n",
       "6                                  Kaşe Kaban - Siyah   \n",
       "7                               Kaşe Kaban - Antrasit   \n",
       "8                   Suni Kürk Yaka Kaşe Kaban - Siyah   \n",
       "9                                  Kaşe Kaban - Siyah   \n",
       "10  Dik Yaka Kapüşonlu Cepli Fermuarlı Kaban - Ant...   \n",
       "11            Kazayağı Desenli Kapşonlu Kaban - Kahve   \n",
       "12                       Kapüşonlu Kaşe Kaban - Siyah   \n",
       "13    Dik Yaka Kapüşonlu Cepli Fermuarlı Kaban - Haki   \n",
       "14             Suni Kürk Kapşonlu Şişme Parka - Siyah   \n",
       "15            Kapüşonlu Cepli Fermuarlı Kaban - Siyah   \n",
       "16              Suni Kürk Kapşonlu Şişme Parka - Haki   \n",
       "17             Cepli Düğmeli Gömlek Yaka Kaban - Haki   \n",
       "18           Suni Kürk Kapüşonlu Kışlık Parka - Siyah   \n",
       "\n",
       "                                         ProductImage  \n",
       "0   https://ktnimg.mncdn.com/mnresize/868/1140/pro...  \n",
       "1   https://ktnimg.mncdn.com/mnresize/868/1140/pro...  \n",
       "2   https://ktnimg.mncdn.com/mnresize/868/1140/pro...  \n",
       "3   https://ktnimg.mncdn.com/mnresize/868/1140/pro...  \n",
       "4   https://ktnimg.mncdn.com/mnresize/868/1140/pro...  \n",
       "5   https://ktnimg.mncdn.com/mnresize/868/1140/pro...  \n",
       "6   https://ktnimg.mncdn.com/mnresize/868/1140/pro...  \n",
       "7   https://ktnimg.mncdn.com/mnresize/868/1140/pro...  \n",
       "8   https://ktnimg.mncdn.com/mnresize/868/1140/pro...  \n",
       "9   https://ktnimg.mncdn.com/mnresize/868/1140/pro...  \n",
       "10  https://ktnimg.mncdn.com/mnresize/868/1140/pro...  \n",
       "11  https://ktnimg.mncdn.com/mnresize/868/1140/pro...  \n",
       "12  https://ktnimg.mncdn.com/mnresize/868/1140/pro...  \n",
       "13  https://ktnimg.mncdn.com/mnresize/868/1140/pro...  \n",
       "14  https://ktnimg.mncdn.com/mnresize/868/1140/pro...  \n",
       "15  https://ktnimg.mncdn.com/mnresize/868/1140/pro...  \n",
       "16  https://ktnimg.mncdn.com/mnresize/868/1140/pro...  \n",
       "17  https://ktnimg.mncdn.com/mnresize/868/1140/pro...  \n",
       "18  https://ktnimg.mncdn.com/mnresize/868/1140/pro...  "
      ]
     },
     "execution_count": 35,
     "metadata": {},
     "output_type": "execute_result"
    }
   ],
   "source": [
    "data"
   ]
  },
  {
   "cell_type": "code",
   "execution_count": 36,
   "metadata": {},
   "outputs": [],
   "source": [
    "data.to_excel(\"KotonErkekKaban.xlsx\",index=False)"
   ]
  }
 ],
 "metadata": {
  "kernelspec": {
   "display_name": "Python 3 (ipykernel)",
   "language": "python",
   "name": "python3"
  },
  "language_info": {
   "codemirror_mode": {
    "name": "ipython",
    "version": 3
   },
   "file_extension": ".py",
   "mimetype": "text/x-python",
   "name": "python",
   "nbconvert_exporter": "python",
   "pygments_lexer": "ipython3",
   "version": "3.12.4"
  }
 },
 "nbformat": 4,
 "nbformat_minor": 4
}
